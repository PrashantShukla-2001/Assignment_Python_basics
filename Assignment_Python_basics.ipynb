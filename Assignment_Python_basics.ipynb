{
  "nbformat": 4,
  "nbformat_minor": 0,
  "metadata": {
    "colab": {
      "provenance": []
    },
    "kernelspec": {
      "name": "python3",
      "display_name": "Python 3"
    },
    "language_info": {
      "name": "python"
    }
  },
  "cells": [
    {
      "cell_type": "markdown",
      "source": [
        "Python Basics Questions\n",
        "\n",
        "--------------------------------------------------------------------------------\n",
        "\n",
        "Q1) What is Python, and why is it popular?\n",
        "\n",
        "Ans) Python is a popular programming language because it's easy to learn, versatile, and can be used for many applications. It's also efficient and can run on many platforms.\n",
        "Easy to learn: Python has a simple syntax that's similar to English, making it easy for beginners to learn.\n",
        "Versatile: Python can be used to create a variety of programs, including websites, software, and applications for data science and machine learning.\n",
        "Efficient: Python is efficient and can increase development speed.\n",
        "Cost-effective: Python can be cheaper to use than other programming languages, making it a good choice for starter projects.\n",
        "Extensive libraries: Python has many libraries and frameworks that can save time and effort. Cross-platform compatibility: Python can run on many different platforms.\n",
        "\n",
        "--------------------------------------------------------------------------------\n",
        "Q2) What is an interpreter in Python?\n",
        "\n",
        "Ans) A Python interpreter is a program that reads and executes Python code line by line. It translates Python code into machine-readable bytecode, which is then executed.\n",
        "\n",
        "--------------------------------------------------------------------------------\n",
        "\n",
        "Q3) What are pre-defined keywords in Python?\n",
        "\n",
        "Ans) Predefined keywords in Python are special words with specific meanings that cannot be changed. They are part of Python's syntax and cannot be used as identifiers, such as variable names, function names, or class names.\n",
        "\n",
        "--------------------------------------------------------------------------------\n",
        "\n",
        "Q4) Can keywords be used as variable names?\n",
        "\n",
        "Ans) No, keywords cannot be used as variable names in programming languages like Python and C. Keywords are reserved words that define the structure and syntax of a language, and are used to recognize the program's structure.\n",
        "\n",
        "--------------------------------------------------------------------------------\n",
        "\n",
        "Q5) What is mutability in Python?\n",
        "\n",
        "Ans) In Python, mutability is the ability of an object to change after it has been created. Mutable objects can be modified in terms of their state or contents.\n",
        "\n",
        "--------------------------------------------------------------------------------\n",
        "\n",
        "Q6) Why are lists mutable, but tuples are immutable?\n",
        "\n",
        "Ans) Tuples and lists are the same in every way except two: tuples use parentheses instead of square brackets, and the items in tuples cannot be modified (but the items in lists can be modified). We often call lists mutable (meaning they can be changed) and tuples immutable (meaning they cannot be changed).\n",
        "\n",
        "--------------------------------------------------------------------------------\n",
        "\n",
        "Q7) What is the difference between “==” and “is” operators in Python?\n",
        "\n",
        "Ans) In Python, the == operator compares the values of two objects, while the is operator compares whether two variables point to the same object.\n",
        "\n",
        "--------------------------------------------------------------------------------\n",
        "\n",
        "Q8)  What are logical operators in Python?\n",
        "\n",
        "Ans) Logical operators in Python are keywords that evaluate conditions in expressions. They are also known as Boolean operators.\n",
        "\n",
        "--------------------------------------------------------------------------------\n",
        "\n",
        "Q9) What is type casting in Python?\n",
        "Ans) Type casting, also known as type conversion, is the process of changing a variable's data type to another data type in Python.\n",
        "\n",
        "--------------------------------------------------------------------------------\n",
        "\n",
        "Q10) What is the difference between implicit and explicit type casting?\n",
        "\n",
        "Ans) Implicit type casting happens automatically, while explicit type casting requires the programmer to intervene.\n",
        "\n",
        "--------------------------------------------------------------------------------\n",
        "\n",
        "Q11) What is the purpose of conditional statements in Python?\n",
        "\n",
        "Ans) Conditional statements in Python control the flow of a program by evaluating conditions and executing code based on the results. They give the programmer more control over what the program does.\n",
        "\n",
        "--------------------------------------------------------------------------------\n",
        "\n",
        "Q12) How does the elif statement work?\n",
        "\n",
        "Ans) An elif statement works on the following principle,\n",
        "execute the block of code inside if statement if the initial expression evaluates to True. After execution return to the code out of the if block. execute the block of code inside the first elif statement if the expression inside it evaluates True.\n",
        "\n",
        "--------------------------------------------------------------------------------\n",
        "\n",
        "Q13) What is the difference between for and while loops?\n",
        "\n",
        "Ans) The main difference between a for loop and a while loop is that a for loop repeats a section of code a known number of times, while a while loop repeats it an unknown number of times.\n",
        "\n",
        "--------------------------------------------------------------------------------\n",
        "\n",
        "Q14) Describe a scenario where a while loop is more suitable than a for loop?\n",
        "\n",
        "Ans) Just use whichever loop seems more appropriate to the task at hand. In general, you should use a for loop when you know how many times the loop should run. If you want the loop to break based on a condition other than the number of times it runs, you should use a while loop.\n",
        "\n",
        "--------------------------------------------------------------------------------\n"
      ],
      "metadata": {
        "id": "J8BDT94wGgBP"
      }
    },
    {
      "cell_type": "markdown",
      "source": [
        "# **Practical Questions**"
      ],
      "metadata": {
        "id": "SIgWV3RmK12Y"
      }
    },
    {
      "cell_type": "code",
      "source": [
        "# Write a Python program to print \"Hello, World!\n",
        "\n",
        "print(\"Hello, World!\")"
      ],
      "metadata": {
        "colab": {
          "base_uri": "https://localhost:8080/"
        },
        "id": "IfdHhxBfHGN2",
        "outputId": "990d91b2-408c-4bab-f943-65193cb21cb8"
      },
      "execution_count": 1,
      "outputs": [
        {
          "output_type": "stream",
          "name": "stdout",
          "text": [
            "Hello, World!\n"
          ]
        }
      ]
    },
    {
      "cell_type": "code",
      "source": [
        "# Write a Python program that displays your name and age.\n",
        "\n",
        "name=input(\"Enter your name: \")\n",
        "age=int(input(\"Eneter your age: \"))\n",
        "print(\"Your name is\", name ,\"ans your age is\",age,\".\")"
      ],
      "metadata": {
        "colab": {
          "base_uri": "https://localhost:8080/"
        },
        "id": "ZxWWRtOEK8vc",
        "outputId": "09bb8e2c-7b41-47e7-c496-99ff3685fa5c"
      },
      "execution_count": 6,
      "outputs": [
        {
          "output_type": "stream",
          "name": "stdout",
          "text": [
            "Enter your name: Prashant Shukla\n",
            "Eneter your age: 24\n",
            "Your name is Prashant Shukla ans your age is 24 .\n"
          ]
        }
      ]
    },
    {
      "cell_type": "code",
      "source": [
        "#Write code to print all the pre-defined keywords in Python using the keyword library\n",
        "help(\"keywords\")"
      ],
      "metadata": {
        "colab": {
          "base_uri": "https://localhost:8080/"
        },
        "id": "RT6seX0hLe1o",
        "outputId": "2e83cd59-ca57-4a89-95a7-6d66a2ea2e85"
      },
      "execution_count": 9,
      "outputs": [
        {
          "output_type": "stream",
          "name": "stdout",
          "text": [
            "\n",
            "Here is a list of the Python keywords.  Enter any keyword to get more help.\n",
            "\n",
            "False               class               from                or\n",
            "None                continue            global              pass\n",
            "True                def                 if                  raise\n",
            "and                 del                 import              return\n",
            "as                  elif                in                  try\n",
            "assert              else                is                  while\n",
            "async               except              lambda              with\n",
            "await               finally             nonlocal            yield\n",
            "break               for                 not                 \n",
            "\n"
          ]
        }
      ]
    },
    {
      "cell_type": "code",
      "source": [
        "#Write a program that checks if a given word is a Python keyword\n",
        "import keyword\n",
        "word=input(\"Enter a word:\")\n",
        "if keyword.iskeyword(word):\n",
        "  print(word,\"is a keyword.\")\n",
        "else:\n",
        "  print(word,\"is not a keyword.\")\n"
      ],
      "metadata": {
        "colab": {
          "base_uri": "https://localhost:8080/"
        },
        "id": "tHJ15FcfMOA7",
        "outputId": "dfd52ef3-fc14-494d-d5c2-ff6eac3c811d"
      },
      "execution_count": 12,
      "outputs": [
        {
          "output_type": "stream",
          "name": "stdout",
          "text": [
            "Enter a word:while\n",
            "while is a keyword.\n"
          ]
        }
      ]
    },
    {
      "cell_type": "code",
      "source": [
        "#Create a list and tuple in Python, and demonstrate how attempting to change an element works differently\n",
        "#for each\n",
        "\n",
        "List=[1,2,3,4,5]\n",
        "List[0]=10\n",
        "print(List)"
      ],
      "metadata": {
        "colab": {
          "base_uri": "https://localhost:8080/"
        },
        "id": "i2o7ZhDVNJk7",
        "outputId": "e1203188-1e5d-44ba-bc0b-d0eaf488386a"
      },
      "execution_count": 14,
      "outputs": [
        {
          "output_type": "stream",
          "name": "stdout",
          "text": [
            "[10, 2, 3, 4, 5]\n"
          ]
        }
      ]
    },
    {
      "cell_type": "code",
      "source": [
        "Tuple=(1,2,3,4,5)\n",
        "Tuple[0]=10\n",
        "print(Tuple)"
      ],
      "metadata": {
        "colab": {
          "base_uri": "https://localhost:8080/",
          "height": 176
        },
        "id": "71DdLagrOWA3",
        "outputId": "94deee51-00b1-4527-d8e0-5b3c421e38d3"
      },
      "execution_count": 15,
      "outputs": [
        {
          "output_type": "error",
          "ename": "TypeError",
          "evalue": "'tuple' object does not support item assignment",
          "traceback": [
            "\u001b[0;31m---------------------------------------------------------------------------\u001b[0m",
            "\u001b[0;31mTypeError\u001b[0m                                 Traceback (most recent call last)",
            "\u001b[0;32m<ipython-input-15-024a3017d664>\u001b[0m in \u001b[0;36m<cell line: 0>\u001b[0;34m()\u001b[0m\n\u001b[1;32m      1\u001b[0m \u001b[0mTuple\u001b[0m\u001b[0;34m=\u001b[0m\u001b[0;34m(\u001b[0m\u001b[0;36m1\u001b[0m\u001b[0;34m,\u001b[0m\u001b[0;36m2\u001b[0m\u001b[0;34m,\u001b[0m\u001b[0;36m3\u001b[0m\u001b[0;34m,\u001b[0m\u001b[0;36m4\u001b[0m\u001b[0;34m,\u001b[0m\u001b[0;36m5\u001b[0m\u001b[0;34m)\u001b[0m\u001b[0;34m\u001b[0m\u001b[0;34m\u001b[0m\u001b[0m\n\u001b[0;32m----> 2\u001b[0;31m \u001b[0mTuple\u001b[0m\u001b[0;34m[\u001b[0m\u001b[0;36m0\u001b[0m\u001b[0;34m]\u001b[0m\u001b[0;34m=\u001b[0m\u001b[0;36m10\u001b[0m\u001b[0;34m\u001b[0m\u001b[0;34m\u001b[0m\u001b[0m\n\u001b[0m\u001b[1;32m      3\u001b[0m \u001b[0mprint\u001b[0m\u001b[0;34m(\u001b[0m\u001b[0mTuple\u001b[0m\u001b[0;34m)\u001b[0m\u001b[0;34m\u001b[0m\u001b[0;34m\u001b[0m\u001b[0m\n",
            "\u001b[0;31mTypeError\u001b[0m: 'tuple' object does not support item assignment"
          ]
        }
      ]
    },
    {
      "cell_type": "code",
      "source": [
        "#Write a function to demonstrate the behavior of mutable and immutable arguments\n",
        "List=[1,2,3,4,5]\n",
        "List[0]=10\n",
        "print(List)"
      ],
      "metadata": {
        "colab": {
          "base_uri": "https://localhost:8080/"
        },
        "id": "3t3M9swUOjuy",
        "outputId": "e16cb3f5-8fca-4a16-bf95-6c304e4ea4b2"
      },
      "execution_count": 16,
      "outputs": [
        {
          "output_type": "stream",
          "name": "stdout",
          "text": [
            "[10, 2, 3, 4, 5]\n"
          ]
        }
      ]
    },
    {
      "cell_type": "code",
      "source": [
        "Tuple=(1,2,3,4,5)\n",
        "Tuple[0]=10\n",
        "print(Tuple)"
      ],
      "metadata": {
        "colab": {
          "base_uri": "https://localhost:8080/",
          "height": 176
        },
        "id": "N0oC5mcQPpXJ",
        "outputId": "066a66a6-4976-4f18-cd82-c58f81aeb387"
      },
      "execution_count": 17,
      "outputs": [
        {
          "output_type": "error",
          "ename": "TypeError",
          "evalue": "'tuple' object does not support item assignment",
          "traceback": [
            "\u001b[0;31m---------------------------------------------------------------------------\u001b[0m",
            "\u001b[0;31mTypeError\u001b[0m                                 Traceback (most recent call last)",
            "\u001b[0;32m<ipython-input-17-024a3017d664>\u001b[0m in \u001b[0;36m<cell line: 0>\u001b[0;34m()\u001b[0m\n\u001b[1;32m      1\u001b[0m \u001b[0mTuple\u001b[0m\u001b[0;34m=\u001b[0m\u001b[0;34m(\u001b[0m\u001b[0;36m1\u001b[0m\u001b[0;34m,\u001b[0m\u001b[0;36m2\u001b[0m\u001b[0;34m,\u001b[0m\u001b[0;36m3\u001b[0m\u001b[0;34m,\u001b[0m\u001b[0;36m4\u001b[0m\u001b[0;34m,\u001b[0m\u001b[0;36m5\u001b[0m\u001b[0;34m)\u001b[0m\u001b[0;34m\u001b[0m\u001b[0;34m\u001b[0m\u001b[0m\n\u001b[0;32m----> 2\u001b[0;31m \u001b[0mTuple\u001b[0m\u001b[0;34m[\u001b[0m\u001b[0;36m0\u001b[0m\u001b[0;34m]\u001b[0m\u001b[0;34m=\u001b[0m\u001b[0;36m10\u001b[0m\u001b[0;34m\u001b[0m\u001b[0;34m\u001b[0m\u001b[0m\n\u001b[0m\u001b[1;32m      3\u001b[0m \u001b[0mprint\u001b[0m\u001b[0;34m(\u001b[0m\u001b[0mTuple\u001b[0m\u001b[0;34m)\u001b[0m\u001b[0;34m\u001b[0m\u001b[0;34m\u001b[0m\u001b[0m\n",
            "\u001b[0;31mTypeError\u001b[0m: 'tuple' object does not support item assignment"
          ]
        }
      ]
    },
    {
      "cell_type": "code",
      "source": [
        "#Write a program to demonstrate the use of logical operators\n",
        "a=\"Prashant\"\n",
        "b=\"Shukla\"\n",
        "if \"t\"in (a and b):\n",
        "  print(\"True\")\n",
        "else:\n",
        "  print(\"False\")\n",
        "\n"
      ],
      "metadata": {
        "colab": {
          "base_uri": "https://localhost:8080/"
        },
        "id": "X7TnpqD8Pq4X",
        "outputId": "f0c0071b-73d4-4c88-fb92-fa24c44527a1"
      },
      "execution_count": 27,
      "outputs": [
        {
          "output_type": "stream",
          "name": "stdout",
          "text": [
            "False\n"
          ]
        }
      ]
    },
    {
      "cell_type": "code",
      "source": [
        "# Write a Python program to convert user input from string to integer, float, and boolean types.\n",
        "a=input(\"Enter a number:\")\n",
        "print(int(a))\n",
        "print(float(a))\n",
        "print(bool(a))\n"
      ],
      "metadata": {
        "colab": {
          "base_uri": "https://localhost:8080/"
        },
        "id": "3oTe_muLQkq2",
        "outputId": "cf203a11-b6e1-45bb-ec4a-c9509d15ecdc"
      },
      "execution_count": 34,
      "outputs": [
        {
          "output_type": "stream",
          "name": "stdout",
          "text": [
            "Enter a number:45\n",
            "45\n",
            "45.0\n",
            "True\n"
          ]
        }
      ]
    },
    {
      "cell_type": "code",
      "source": [
        "#Write code to demonstrate type casting with list elements\n",
        "List=[1,2,3,4,5]\n",
        "print(List)\n",
        "List[0]=10\n",
        "print(List)"
      ],
      "metadata": {
        "colab": {
          "base_uri": "https://localhost:8080/"
        },
        "id": "AmD58IYfSj8X",
        "outputId": "e81e0baf-82bd-47f2-bca7-8291a85f8c42"
      },
      "execution_count": 35,
      "outputs": [
        {
          "output_type": "stream",
          "name": "stdout",
          "text": [
            "[1, 2, 3, 4, 5]\n",
            "[10, 2, 3, 4, 5]\n"
          ]
        }
      ]
    },
    {
      "cell_type": "code",
      "source": [
        " #Write a program that checks if a number is positive, negative, or zero.\n",
        " num=int(input(\"Enter a number:\"))\n",
        " if num<0:\n",
        "  print(\"Entered number\",num,\"is negative.\")\n",
        " elif num>0:\n",
        "  print(\"Entered number\",num,\"is positive.\")\n",
        "else:\n",
        "  print(\"Entered number\",num,\"is zero.\")"
      ],
      "metadata": {
        "colab": {
          "base_uri": "https://localhost:8080/"
        },
        "id": "QjvOf7ngTqA7",
        "outputId": "c1c94d05-ca7c-4d1c-b89e-3a518a4133d0"
      },
      "execution_count": 38,
      "outputs": [
        {
          "output_type": "stream",
          "name": "stdout",
          "text": [
            "Enter a number:-7\n",
            "Entered number -7 is negative.\n"
          ]
        }
      ]
    },
    {
      "cell_type": "code",
      "source": [
        " #Write a for loop to print numbers from 1 to 10\n",
        " num =1\n",
        " while num<11:\n",
        "  print(num)\n",
        "  num=num+1"
      ],
      "metadata": {
        "colab": {
          "base_uri": "https://localhost:8080/"
        },
        "id": "_-_shr73UVeU",
        "outputId": "904e6693-42be-49e6-ac23-49718044925d"
      },
      "execution_count": 39,
      "outputs": [
        {
          "output_type": "stream",
          "name": "stdout",
          "text": [
            "1\n",
            "2\n",
            "3\n",
            "4\n",
            "5\n",
            "6\n",
            "7\n",
            "8\n",
            "9\n",
            "10\n"
          ]
        }
      ]
    },
    {
      "cell_type": "code",
      "source": [
        "#Write a Python program to find the sum of all even numbers between 1 and 50\n",
        "sum=0\n",
        "for i in range(1,51):\n",
        "  if i%2==0:\n",
        "    sum=sum+i\n",
        "print(sum)\n"
      ],
      "metadata": {
        "colab": {
          "base_uri": "https://localhost:8080/"
        },
        "id": "myNM6NiIUnNw",
        "outputId": "b4c33006-c9bc-41bf-f65b-ef0a0565ddf7"
      },
      "execution_count": 40,
      "outputs": [
        {
          "output_type": "stream",
          "name": "stdout",
          "text": [
            "650\n"
          ]
        }
      ]
    },
    {
      "cell_type": "code",
      "source": [
        "#Write a program to reverse a string using a while loop\n",
        "s=\"Prashant\"\n",
        "output=\" \"\n",
        "i=len(s)-1\n",
        "while i>=0:\n",
        "  output=output+s[i]\n",
        "  i=i-1\n",
        "print(output)"
      ],
      "metadata": {
        "colab": {
          "base_uri": "https://localhost:8080/"
        },
        "id": "FHFAQyJOUtqx",
        "outputId": "fbfa6f4c-a5d4-4fc8-b53a-2722ba90a259"
      },
      "execution_count": 43,
      "outputs": [
        {
          "output_type": "stream",
          "name": "stdout",
          "text": [
            " tnahsarP\n"
          ]
        }
      ]
    },
    {
      "cell_type": "code",
      "source": [
        "#0 Write a Python program to calculate the factorial of a number provided by the user using a while loop.\n",
        "n=int(input(\"Eneter a number:\"))\n",
        "fact=1\n",
        "while n>0:\n",
        "  fact=fact*n\n",
        "  n=n-1\n",
        "print(fact)\n",
        "\n",
        ""
      ],
      "metadata": {
        "colab": {
          "base_uri": "https://localhost:8080/"
        },
        "id": "eDQW7XEsXEi6",
        "outputId": "a2845a50-fbda-4eca-fe88-02817f893049"
      },
      "execution_count": 62,
      "outputs": [
        {
          "output_type": "stream",
          "name": "stdout",
          "text": [
            "Eneter a number:5\n",
            "120\n"
          ]
        }
      ]
    },
    {
      "cell_type": "code",
      "source": [],
      "metadata": {
        "id": "UPFVZjvNYKPA"
      },
      "execution_count": null,
      "outputs": []
    }
  ]
}